{
 "cells": [
  {
   "cell_type": "code",
   "execution_count": 24,
   "id": "9e141958-6248-48b0-8a64-9452d59dda1a",
   "metadata": {
    "scrolled": true
   },
   "outputs": [
    {
     "name": "stdout",
     "output_type": "stream",
     "text": [
      "Setiap temannya mendapat 3.0 buah apel\n",
      "Jumlah apel Budi jika sudah ditambah menjadi: 20 buah\n",
      "Maka setiap teman Budi mendapat 5.0 buah apel setelah ditambah\n"
     ]
    }
   ],
   "source": [
    "#Operator Aritmatika\n",
    "\n",
    "JumlahApel = 12\n",
    "JumlahTeman = 4 \n",
    "\n",
    "ApelPerOrang = JumlahApel / JumlahTeman \n",
    "print(\"Setiap temannya mendapat\", ApelPerOrang, \"buah apel\")\n",
    "\n",
    "TambahanApel = 8 \n",
    "KeseluruhanApel = JumlahApel + TambahanApel\n",
    "print(\"Jumlah apel Budi jika sudah ditambah menjadi:\", KeseluruhanApel, \"buah\")\n",
    "\n",
    "#Jika seluruh jumlah apel dibagi dengan ke-4 temannya\n",
    "Total = KeseluruhanApel / JumlahTeman \n",
    "print(\"Maka setiap teman Budi mendapat\", Total, \"buah apel setelah ditambah\")"
   ]
  },
  {
   "cell_type": "code",
   "execution_count": 26,
   "id": "9356c3ef-6d68-43bf-8206-70be6d86d75a",
   "metadata": {
    "scrolled": true
   },
   "outputs": [
    {
     "name": "stdout",
     "output_type": "stream",
     "text": [
      "Apakah 160 = 165 ? False\n",
      "Apakah 160 != 165 ? True\n",
      "Apakah 160 > 165 ? False\n",
      "Kesimpulannya, yang lebih tinggi adalah Andi dengan tinggi 165 cm\n"
     ]
    }
   ],
   "source": [
    "#Operator Perbandingan\n",
    "\n",
    "TinggiSiti = 160\n",
    "TinggiAndi = 165\n",
    "\n",
    "print(\"Apakah\", TinggiSiti, \"=\", TinggiAndi, \"?\", TinggiSiti == TinggiAndi)\n",
    "print(\"Apakah\", TinggiSiti, \"!=\", TinggiAndi, \"?\", TinggiSiti != TinggiAndi)\n",
    "print(\"Apakah\", TinggiSiti, \">\", TinggiAndi, \"?\", TinggiSiti > TinggiAndi)\n",
    "print(\"Kesimpulannya, yang lebih tinggi adalah Andi dengan tinggi\", TinggiAndi, \"cm\")"
   ]
  },
  {
   "cell_type": "code",
   "execution_count": 6,
   "id": "ec52a2d9-c1a6-4668-9d76-750f3275df1e",
   "metadata": {
    "scrolled": true
   },
   "outputs": [
    {
     "name": "stdout",
     "output_type": "stream",
     "text": [
      "Apakah CuacaCerah and PrSelesai bernilai true? True\n",
      "Artinya Budi boleh bermain di luar\n"
     ]
    }
   ],
   "source": [
    "#Operator Logika\n",
    "\n",
    "CuacaCerah = True \n",
    "PrSelesai = True\n",
    "\n",
    "print(\"Apakah CuacaCerah and PrSelesai bernilai true?\", CuacaCerah and PrSelesai )\n",
    "print(\"Artinya Budi boleh bermain di luar\")\n"
   ]
  },
  {
   "cell_type": "code",
   "execution_count": 8,
   "id": "a3480ec2-4f03-41b6-8aa9-33c749f5e664",
   "metadata": {
    "scrolled": true
   },
   "outputs": [
    {
     "name": "stdout",
     "output_type": "stream",
     "text": [
      "angka biner dari AND adalah: 0b10\n",
      "angka biner dari OR adalah: 0b111\n",
      "angka biner dari XOR adalah: 0b101\n"
     ]
    }
   ],
   "source": [
    "#Operator Bitwise\n",
    "num1 = 6\n",
    "num2 = 3\n",
    "\n",
    "HasilAnd = num1 & num2\n",
    "print(\"angka biner dari AND adalah:\",bin(HasilAnd))\n",
    "\n",
    "\n",
    "HasilOr = num1 | num2\n",
    "print(\"angka biner dari OR adalah:\",bin(HasilOr))\n",
    "\n",
    "HasilXor = num1 ^ num2\n",
    "print(\"angka biner dari XOR adalah:\",bin(HasilXor))"
   ]
  },
  {
   "cell_type": "code",
   "execution_count": 28,
   "id": "e24cd31b-9daf-4084-a72a-971bf5952b2f",
   "metadata": {
    "scrolled": true
   },
   "outputs": [
    {
     "name": "stdout",
     "output_type": "stream",
     "text": [
      "Saldo awal:  50000\n",
      "Saldo setelah diisi ulang 20000:  70000\n",
      "Sisa saldo setelah beli pulsa 30000: 40000\n"
     ]
    }
   ],
   "source": [
    "#Operator Penugasan\n",
    "saldo = 50000\n",
    "print(\"Saldo awal: \",saldo)\n",
    "saldo += 20000\n",
    "print(\"Saldo setelah diisi ulang 20000: \",saldo)\n",
    "saldo -= 30000\n",
    "print(\"Sisa saldo setelah beli pulsa 30000:\",saldo)"
   ]
  },
  {
   "cell_type": "code",
   "execution_count": 12,
   "id": "edaa4d32-ae57-4ec4-969d-2ec8df1f501f",
   "metadata": {
    "scrolled": true
   },
   "outputs": [
    {
     "name": "stdout",
     "output_type": "stream",
     "text": [
      "Apakah terdapat nama Eka?  False\n",
      "Apakah terdapat kata 'Python'? True\n"
     ]
    }
   ],
   "source": [
    "#Operator Keanggotaan\n",
    "pesertaLomba = (\"Andi\",\"Budi\",\"Citra\",\"Dewi\")\n",
    "nama = \"eka\"\n",
    "hasil = nama in pesertaLomba \n",
    "print(\"Apakah terdapat nama Eka? \",hasil)\n",
    "\n",
    "kalimat = \"Saya suka belajar Python\"\n",
    "yangDicari = \"Python\"\n",
    "hasil = yangDicari in kalimat\n",
    "print(\"Apakah terdapat kata 'Python'?\",hasil)"
   ]
  },
  {
   "cell_type": "code",
   "execution_count": 14,
   "id": "9675d407-505f-4086-b891-9c66d7219f10",
   "metadata": {
    "scrolled": true
   },
   "outputs": [
    {
     "name": "stdout",
     "output_type": "stream",
     "text": [
      "apakah x dan y mengacu pada objek yang sama? True\n",
      "apakah a dan b mengacu pada objek yang sama? True\n",
      "apakah a dan b mengacu pada objek yang sama? False\n"
     ]
    }
   ],
   "source": [
    "#Operator Identitas\n",
    "x = 7\n",
    "y = 7\n",
    "\n",
    "hasil = x is y\n",
    "print(\"apakah x dan y mengacu pada objek yang sama?\",hasil)\n",
    "\n",
    "a = \"kamu\"\n",
    "b = \"kamu\"\n",
    "\n",
    "hasil = a is b\n",
    "print(\"apakah a dan b mengacu pada objek yang sama?\",hasil)\n",
    "\n",
    "list1 = [\"12\",\"13\",\"14\"]\n",
    "list2 = [\"12\",\"13\",\"14\"]\n",
    "\n",
    "hasil = list1 is list2\n",
    "print(\"apakah a dan b mengacu pada objek yang sama?\",hasil)"
   ]
  },
  {
   "cell_type": "code",
   "execution_count": 30,
   "id": "bb7294c5-3cbb-40cb-ab6e-059a7eb88b0a",
   "metadata": {},
   "outputs": [
    {
     "name": "stdin",
     "output_type": "stream",
     "text": [
      "Isikan angka: 30\n"
     ]
    },
    {
     "name": "stdout",
     "output_type": "stream",
     "text": [
      "Tidak lebih besar dari 100\n"
     ]
    },
    {
     "name": "stdin",
     "output_type": "stream",
     "text": [
      "Isi nilai: 200\n"
     ]
    },
    {
     "name": "stdout",
     "output_type": "stream",
     "text": [
      "Anda Lulus\n"
     ]
    }
   ],
   "source": [
    "#Operator Ternary\n",
    "angka = int(input(\"Isikan angka:\"))\n",
    "hasil = \"Lebih besar dari 100\" if angka > 100 else \"Tidak lebih besar dari 100\"\n",
    "print(hasil)\n",
    "\n",
    "nilai_ujian = int(input(\"Isi nilai:\"))\n",
    "status = \"Anda Lulus\" if nilai_ujian > 70 else \"Anda Tidak Lulus\"\n",
    "print(status)"
   ]
  }
 ],
 "metadata": {
  "kernelspec": {
   "display_name": "Python [conda env:base] *",
   "language": "python",
   "name": "conda-base-py"
  },
  "language_info": {
   "codemirror_mode": {
    "name": "ipython",
    "version": 3
   },
   "file_extension": ".py",
   "mimetype": "text/x-python",
   "name": "python",
   "nbconvert_exporter": "python",
   "pygments_lexer": "ipython3",
   "version": "3.12.7"
  }
 },
 "nbformat": 4,
 "nbformat_minor": 5
}
