{
 "cells": [
  {
   "cell_type": "code",
   "execution_count": 70,
   "id": "4296a829-f358-44bb-8874-166a8391f2c8",
   "metadata": {},
   "outputs": [
    {
     "name": "stdout",
     "output_type": "stream",
     "text": [
      "Nama : Revan\n",
      "Umur : 17\n",
      "Alamat : cisaat\n",
      "Nilai Pemrograman : 88.5\n",
      "Status Nikah : False\n",
      "Tipe Data <name> <class 'str'>\n",
      "Tipe Data <age> <class 'int'>\n",
      "Tipe Data <address> <class 'str'>\n",
      "Tipe Data <province> <class 'str'>\n",
      "Tipe Data <scorePython> <class 'float'>\n",
      "Tipe Data <isMarried> <class 'bool'>\n"
     ]
    }
   ],
   "source": [
    "name = \"Revan\"\n",
    "age = 17\n",
    "address, province = \"cisaat\",\"7413412\"\n",
    "scorePython = 99.5\n",
    "isMarried = False\n",
    "\n",
    "print(\"Nama :\",name)\n",
    "print(\"Umur :\",age)\n",
    "print(\"Alamat :\",address)\n",
    "print(\"Nilai Pemrograman :\",scorePython)\n",
    "print(\"Status Nikah :\",isMarried)\n",
    "\n",
    "print(\"Tipe Data <name>\",type(name))\n",
    "print(\"Tipe Data <age>\",type(age))\n",
    "print(\"Tipe Data <address>\",type(address))\n",
    "print(\"Tipe Data <province>\",type(province))\n",
    "print(\"Tipe Data <scorePython>\",type(scorePython))\n",
    "print(\"Tipe Data <isMarried>\",type(isMarried))"
   ]
  },
  {
   "cell_type": "code",
   "execution_count": 58,
   "id": "9690b166-e5e3-4076-b5e0-59c7ecee4bb6",
   "metadata": {},
   "outputs": [
    {
     "name": "stdout",
     "output_type": "stream",
     "text": [
      "7413412-7413412.0-True\n",
      "18-18.0-True\n",
      "88.5-88-True\n",
      "0-0.0-False\n"
     ]
    }
   ],
   "source": [
    "#Casting atau konversi Tipe Data\n",
    "#Konversi dari String ke (int,float,bool)\n",
    "strToInt = int(province)\n",
    "strToFloat = float(province)\n",
    "strToBool = bool(province)\n",
    "print(strToInt,strToFloat,strToBool, sep=\"-\")\n",
    "#Konversi dari int ke (str,int,bool)\n",
    "intToStr = str(age)\n",
    "intToFloat = float(age)\n",
    "intToBool = bool(age)\n",
    "print(intToStr,intToFloat,intToBool, sep=\"-\")\n",
    "#Konversi dari float ke (str,int,bool)\n",
    "floatToStr = str(scorePython)\n",
    "floatToInt = int(scorePython)\n",
    "floatToBool = bool(scorePython)\n",
    "print(floatToStr,floatToInt,floatToBool, sep=\"-\")\n",
    "#Konversi dari bool ke (int,float,str)\n",
    "boolToInt = int(isMarried)\n",
    "boolToFloat = float(isMarried)\n",
    "boolToStr = str(isMarried)\n",
    "print(boolToInt,boolToFloat,boolToStr, sep=\"-\")"
   ]
  },
  {
   "cell_type": "code",
   "execution_count": 38,
   "id": "bd07122c-f3d7-4fa4-ae8d-3c7b5e2059b5",
   "metadata": {},
   "outputs": [
    {
     "name": "stdout",
     "output_type": "stream",
     "text": [
      "Nilai desimal : 500\n",
      "Nilai biner : 10\n",
      "Nilai octal : 255\n",
      "Nilai hexa : 255\n",
      "Nilai biner dari  500 : 0b111110100\n",
      "Nilai octal dari  500 : 0o764\n",
      "Nilai hexa dari  500 : 0x1f4\n"
     ]
    }
   ],
   "source": [
    "#Tipe data basis bilangan (desimal,biner,octal,hexa)\n",
    "\n",
    "desimal = 500\n",
    "biner = 0b1010 #10\n",
    "octal = 0o377 #255\n",
    "hexa = 0xff #255\n",
    "\n",
    "print(\"Nilai desimal :\",desimal)\n",
    "print(\"Nilai biner :\",biner)\n",
    "print(\"Nilai octal :\",octal)\n",
    "print(\"Nilai hexa :\",hexa)\n",
    "\n",
    "print(\"Nilai biner dari \",desimal, \":\",bin(desimal))\n",
    "print(\"Nilai octal dari \",desimal, \":\",oct(desimal))\n",
    "print(\"Nilai hexa dari \",desimal, \":\",hex(desimal))"
   ]
  },
  {
   "cell_type": "code",
   "execution_count": 56,
   "id": "4568eee2-f392-43ec-a2f0-4bf3fce906fe",
   "metadata": {},
   "outputs": [
    {
     "name": "stdout",
     "output_type": "stream",
     "text": [
      "['Bandung', 'Sukabumi', 'Bogor', 'Jakarta', 'Medan']\n",
      "Bandung\n",
      "Medan\n",
      "M\n",
      "n\n",
      "['Bali', 'Sukabumi', 'Bogor', 'Jakarta', 'Medan']\n",
      "('Andi', 'Ferdi', 'Raihan')\n",
      "Ferdi\n",
      "{'name': 'robi', 'age': 25, 'address': {'street': 'Cisaat', 'number': 21, 'province': 'Jawa Barat'}, 'isMarried': True, 'hobbies': ['Basket Ball', 'Football']}\n",
      "25\n",
      "Jawa Barat\n",
      "Basket Ball\n"
     ]
    }
   ],
   "source": [
    "#Tipe data Collection\n",
    "#list\n",
    "cities = [\"Bandung\",\"Sukabumi\",\"Bogor\",\"Jakarta\",\"Medan\"]\n",
    "lengthCities = len(cities)\n",
    "print(cities)\n",
    "print(cities[0])\n",
    "print(cities[lengthCities-1])\n",
    "print(cities[lengthCities-1][0])\n",
    "print(cities[lengthCities-1][len(cities[lengthCities-1])-1])\n",
    "cities[0] = \"Bali\"\n",
    "#cities[5] = \"Malang\" akan menyebabkan error out of range\n",
    "print(cities)\n",
    "\n",
    "#Tuple\n",
    "names = (\"Andi\",\"Ferdi\",\"Raihan\")\n",
    "print(names)\n",
    "print(names[1])\n",
    "#names[0] = \"Dedi\" error immutable tuple\n",
    "\n",
    "#Dictionary\n",
    "studentData = {\n",
    "    \"name\" : \"robi\",\n",
    "    \"age\" : 25,\n",
    "    \"address\" : {\n",
    "        \"street\" : \"Cisaat\",\n",
    "        \"number\" : 21,\n",
    "        \"province\" : \"Jawa Barat\"\n",
    "    },\n",
    "    \"isMarried\" : True,\n",
    "    \"hobbies\" : [\"Basket Ball\", \"Football\"]\n",
    "}\n",
    "\n",
    "print(studentData)\n",
    "print(studentData[\"age\"])\n",
    "print(studentData[\"address\"][\"province\"])\n",
    "print(studentData[\"hobbies\"][0])"
   ]
  },
  {
   "cell_type": "code",
   "execution_count": 68,
   "id": "cfcbde66-bb35-454a-a87b-f9c267456b44",
   "metadata": {},
   "outputs": [
    {
     "name": "stdout",
     "output_type": "stream",
     "text": [
      "{'name': 'Robi', 'age': 25, 'address': {'street': 'Cisaat', 'number': 21, 'province': 'Jawa Barat'}, 'isMarried': True, 'hobbies': ['Basket Ball', 'Football']}\n",
      "{'name': 'Dedi', 'age': 15, 'address': {'street': 'Bogor', 'number': 29, 'province': 'Jawa Barat'}, 'isMarried': False, 'hobbies': ['Chess', 'Singing']}\n",
      "Jawa Barat\n",
      "{'Name': 'Andi', 'Age': 30, 'Status': True}\n",
      "{'Name': 'Rudi', 'Address': 'Bogor'}\n",
      "{'Name': 'Tiger', 'Type': 'Mamalia'}\n",
      "{'Name': 'Crocodile', 'Type': 'Reptile'}\n",
      "{'Vehicle': 'Car', 'Brand': 'BMw', 'cc': 2500}\n"
     ]
    }
   ],
   "source": [
    "#List of Dictionary\n",
    "studentList = [\n",
    "    {\n",
    "        \"name\" : \"Robi\",\n",
    "        \"age\" : 25,\n",
    "        \"address\" : {\n",
    "            \"street\" : \"Cisaat\",\n",
    "            \"number\" : 21,\n",
    "            \"province\" : \"Jawa Barat\"\n",
    "        },\n",
    "        \"isMarried\" : True,\n",
    "        \"hobbies\" : [\"Basket Ball\", \"Football\"]\n",
    "    },\n",
    "    {\n",
    "        \"name\" : \"Dedi\",\n",
    "        \"age\" : 15,\n",
    "        \"address\" : {\n",
    "            \"street\" : \"Bogor\",\n",
    "            \"number\" : 29,\n",
    "            \"province\" : \"Jawa Barat\"\n",
    "        },\n",
    "        \"isMarried\" : False,\n",
    "        \"hobbies\" : [\"Chess\", \"Singing\"]\n",
    "    }\n",
    "]\n",
    "print(studentList[0])\n",
    "print(studentList[1])\n",
    "print(studentList[1][\"address\"][\"province\"])\n",
    "\n",
    "#Konversi dictionary\n",
    "\n",
    "list_list = [[\"Name\",\"Andi\"],[\"Age\",30],[\"Status\",True]]\n",
    "dictListStudent = dict(list_list)\n",
    "print(dictListStudent)\n",
    "\n",
    "list_tuple = [(\"Name\",\"Rudi\"),(\"Address\",\"Bogor\")]\n",
    "dictTupleStudent = dict(list_tuple)\n",
    "print(dictTupleStudent)\n",
    "\n",
    "tuple_list = ([\"Name\",\"Tiger\"],[\"Type\",\"Mamalia\"])\n",
    "dictListAnimal = dict(tuple_list)\n",
    "print(dictListAnimal)\n",
    "\n",
    "tuple_tuple = ((\"Name\",\"Crocodile\"),(\"Type\",\"Reptile\"))\n",
    "dictTupleAnimal = dict(tuple_tuple)\n",
    "print(dictTupleAnimal)\n",
    "\n",
    "keys = [\"Vehicle\",\"Brand\",\"cc\"]\n",
    "values = [\"Car\",\"BMw\",2500]\n",
    "car = dict(zip(keys,values))\n",
    "print(car)"
   ]
  },
  {
   "cell_type": "code",
   "execution_count": null,
   "id": "328645c5-e5e8-47c2-b2c7-ab5e63f7f0d2",
   "metadata": {},
   "outputs": [],
   "source": []
  }
 ],
 "metadata": {
  "kernelspec": {
   "display_name": "Python [conda env:base] *",
   "language": "python",
   "name": "conda-base-py"
  },
  "language_info": {
   "codemirror_mode": {
    "name": "ipython",
    "version": 3
   },
   "file_extension": ".py",
   "mimetype": "text/x-python",
   "name": "python",
   "nbconvert_exporter": "python",
   "pygments_lexer": "ipython3",
   "version": "3.12.7"
  }
 },
 "nbformat": 4,
 "nbformat_minor": 5
}
